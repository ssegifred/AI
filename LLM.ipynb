{
  "nbformat": 4,
  "nbformat_minor": 0,
  "metadata": {
    "colab": {
      "provenance": [],
      "authorship_tag": "ABX9TyMZzlgfKkgXw2rF0LR0pAht",
      "include_colab_link": true
    },
    "kernelspec": {
      "name": "python3",
      "display_name": "Python 3"
    },
    "language_info": {
      "name": "python"
    }
  },
  "cells": [
    {
      "cell_type": "markdown",
      "metadata": {
        "id": "view-in-github",
        "colab_type": "text"
      },
      "source": [
        "<a href=\"https://colab.research.google.com/github/ssegifred/AI/blob/main/LLM.ipynb\" target=\"_parent\"><img src=\"https://colab.research.google.com/assets/colab-badge.svg\" alt=\"Open In Colab\"/></a>"
      ]
    },
    {
      "cell_type": "code",
      "source": [
        "import torch\n",
        "block_size=8\n",
        "batch_size=4"
      ],
      "metadata": {
        "id": "oeSd1jEj7vzP"
      },
      "execution_count": 12,
      "outputs": []
    },
    {
      "cell_type": "code",
      "execution_count": 8,
      "metadata": {
        "id": "7RFYCq2q2zOD"
      },
      "outputs": [],
      "source": [
        "with open('/content/wizard_of_oz.txt','r', encoding='utf-8') as f:\n",
        "  text=f.read()\n",
        "chars=sorted(set(text))\n",
        "vocabulary_size=len(chars)\n"
      ]
    },
    {
      "cell_type": "code",
      "source": [
        "string_to_int = {ch: i for i, ch in enumerate(chars)}\n",
        "int_to_string = {i: ch for i, ch in enumerate(chars)}\n",
        "\n",
        "encode = lambda s: [string_to_int[c] for c in s]\n",
        "decode = lambda l: \"\".join([int_to_string[i] for i in l])\n",
        "\n",
        "data=torch.tensor(encode(text), dtype=torch.long)\n",
        "print(data[:100])"
      ],
      "metadata": {
        "colab": {
          "base_uri": "https://localhost:8080/"
        },
        "id": "covtC8xj3p9k",
        "outputId": "a506359f-e985-4150-f5d5-6f7205414cb6"
      },
      "execution_count": 9,
      "outputs": [
        {
          "output_type": "stream",
          "name": "stdout",
          "text": [
            "tensor([38, 52, 49,  1, 35, 62, 59, 54, 49, 47, 64,  1, 26, 65, 64, 49, 58, 46,\n",
            "        49, 62, 51,  1, 24, 21, 59, 59, 55,  1, 23, 59, 62, 59, 64, 52, 69,  1,\n",
            "        45, 58, 48,  1, 64, 52, 49,  1, 40, 53, 70, 45, 62, 48,  1, 53, 58,  1,\n",
            "        34, 70,  1, 46, 69,  1, 31,  1, 25, 62, 45, 58, 55, 10,  1, 21, 45, 65,\n",
            "        57,  0,  0,  0, 38, 52, 53, 63,  1, 49, 21, 59, 59, 55,  1, 53, 63,  1,\n",
            "        50, 59, 62,  1, 64, 52, 49,  1, 65, 63])\n"
          ]
        }
      ]
    },
    {
      "cell_type": "code",
      "source": [
        "n=int(0.8*len(data))\n",
        "train_data=data[:n]\n",
        "val_data=data[n:]"
      ],
      "metadata": {
        "id": "LZstOZ1T7uJN"
      },
      "execution_count": 10,
      "outputs": []
    },
    {
      "cell_type": "code",
      "source": [
        "\n",
        "x=train_data[:block_size]\n",
        "y=train_data[1:block_size+1]\n",
        "\n",
        "\n",
        "for t in range(block_size):\n",
        "  context=x[:t+1]\n",
        "  target=y[t]\n",
        "  print('when input is', context, 'target is', target)"
      ],
      "metadata": {
        "id": "Sg9xjdz563x6",
        "outputId": "a6ab9619-0bb6-4f3d-9c39-0654e0f6ca1f",
        "colab": {
          "base_uri": "https://localhost:8080/"
        }
      },
      "execution_count": 11,
      "outputs": [
        {
          "output_type": "stream",
          "name": "stdout",
          "text": [
            "when input is tensor([38]) target is tensor(52)\n",
            "when input is tensor([38, 52]) target is tensor(49)\n",
            "when input is tensor([38, 52, 49]) target is tensor(1)\n",
            "when input is tensor([38, 52, 49,  1]) target is tensor(35)\n",
            "when input is tensor([38, 52, 49,  1, 35]) target is tensor(62)\n",
            "when input is tensor([38, 52, 49,  1, 35, 62]) target is tensor(59)\n",
            "when input is tensor([38, 52, 49,  1, 35, 62, 59]) target is tensor(54)\n",
            "when input is tensor([38, 52, 49,  1, 35, 62, 59, 54]) target is tensor(49)\n"
          ]
        }
      ]
    },
    {
      "cell_type": "code",
      "source": [],
      "metadata": {
        "id": "fnAoNkgZEMog"
      },
      "execution_count": null,
      "outputs": []
    }
  ]
}